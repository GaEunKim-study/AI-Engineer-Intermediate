{
 "cells": [
  {
   "cell_type": "markdown",
   "metadata": {
    "id": "jbRxQf3f8gaW"
   },
   "source": [
    "## 텐서플로우 실습"
   ]
  },
  {
   "cell_type": "markdown",
   "metadata": {
    "id": "t6zcLt6O8pyb"
   },
   "source": [
    "### 필요한 모듈 불러오기"
   ]
  },
  {
   "cell_type": "code",
   "execution_count": 1,
   "metadata": {
    "executionInfo": {
     "elapsed": 2064,
     "status": "ok",
     "timestamp": 1625996610701,
     "user": {
      "displayName": "jinsuk kim",
      "photoUrl": "",
      "userId": "04080163277885794490"
     },
     "user_tz": -540
    },
    "id": "l0xPsvoD8bnm"
   },
   "outputs": [],
   "source": [
    "import tensorflow as tf\n",
    "import numpy as np"
   ]
  },
  {
   "cell_type": "markdown",
   "metadata": {
    "id": "sqiUzHBL8yT_"
   },
   "source": [
    "### 텐서플로우 연산\n",
    "- 텐서플로우 2.x 부터는 즉시 실행 모드(Eager mode) 지원\n",
    "- 텐서플로우 1.x : 계산 그래프 선언 -> 초기화한 뒤 세션을 통해 값을 흐르게 하여 계산"
   ]
  },
  {
   "cell_type": "code",
   "execution_count": null,
   "metadata": {
    "colab": {
     "base_uri": "https://localhost:8080/"
    },
    "executionInfo": {
     "elapsed": 416,
     "status": "ok",
     "timestamp": 1625997081857,
     "user": {
      "displayName": "jinsuk kim",
      "photoUrl": "",
      "userId": "04080163277885794490"
     },
     "user_tz": -540
    },
    "id": "Far6lf_Z82LV",
    "outputId": "01a85ad1-7a2a-416a-9a74-5e5ca1f7a46a"
   },
   "outputs": [],
   "source": []
  },
  {
   "cell_type": "code",
   "execution_count": null,
   "metadata": {},
   "outputs": [],
   "source": []
  }
 ],
 "metadata": {
  "colab": {
   "authorship_tag": "ABX9TyNKV90kwekYoQ+j/phI55LW",
   "collapsed_sections": [],
   "name": "0. 텐서플로우_실습",
   "provenance": []
  },
  "kernelspec": {
   "display_name": "Python 3",
   "language": "python",
   "name": "python3"
  },
  "language_info": {
   "codemirror_mode": {
    "name": "ipython",
    "version": 3
   },
   "file_extension": ".py",
   "mimetype": "text/x-python",
   "name": "python",
   "nbconvert_exporter": "python",
   "pygments_lexer": "ipython3",
   "version": "3.7.10"
  }
 },
 "nbformat": 4,
 "nbformat_minor": 1
}
